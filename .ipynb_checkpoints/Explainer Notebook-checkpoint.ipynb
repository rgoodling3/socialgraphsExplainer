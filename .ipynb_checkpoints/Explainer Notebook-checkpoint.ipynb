{
 "cells": [
  {
   "cell_type": "markdown",
   "metadata": {},
   "source": [
    "# Explainer Notebook\n",
    "Hey"
   ]
  },
  {
   "cell_type": "markdown",
   "metadata": {},
   "source": [
    "## Motivation\n",
    "#### 1. What is your dataset?\n",
    "\n",
    "Our dataset is comprised of Pokemon data from Bulbapedia. In our graphs, we look at Pokemon type, episode appearance, game locations, and many more attributes. \n",
    "#### 2. Why did you choose this/these particular dataset(s)?\n",
    "\n",
    "We were all interested in Pokemon and recognized the potential in the dataset. Because there are so many different categories and attributes, we had many ideas for questions to explore. \n",
    "#### 3. What was your goal for the end user's experience?\n",
    "\n",
    "We wanted to create a handful of graphs and data visualizations to help the user learn about Pokemon. We have three different sections on our website that show 3 different attributes and have visualizations to help. The end goal was to have something fun, not so much useful. "
   ]
  },
  {
   "cell_type": "markdown",
   "metadata": {},
   "source": [
    "## Basic stats. Let's understand the dataset better\n",
    "\n",
    "https://www.youtube.com/watch?v=pOvPfWrcnYA\n",
    "#### 1. Write about your choices in data cleaning and preprocessing\n",
    "\n",
    "We used the same tactics from class to scrape information from the wikipedia page. Once we had the wikipedia text, we were able to use regex to find what we needed. \n",
    "#### 2. Write a short section that discusses the dataset stats\n",
    "\n",
    "TO DO\n",
    "\n",
    "There are 809 Pokemon, but we mainly focused on the first 150 (Generation 1). For the location graph, there were an additional 30 nodes that represented locations that Pokemon could be found. The number of edges varried between the two graphs, with the location graph having 452 edges and the episode graph having more than 80,000 edges. We processed over 32 MB of data to create our two graphs and sentiment analysis. "
   ]
  },
  {
   "cell_type": "markdown",
   "metadata": {},
   "source": [
    "## Tools, theory and analysis. Describe the process of theory to insight\n",
    "#### 1. Talk about how you've worked with text, including regular expressions, unicode, etc.\n",
    "\n",
    "For the location graph, the game versions and all of the locations were extracted from the text using regex.\n",
    "#### 2. Describe which network science tools and data analysis strategies you've used, how those network science measures work, and why the tools you've chosen are right for the problem you're solving. How did you use the tools to understand your dataset?\n",
    "\n",
    "\n",
    "For the location graph, we were interested in what Pokemon could be found in the same locations. We used a Networkx bipartite graph to help seperate the location nodes and the Pokemon nodes. This graph is an example of a bipartite graph because the Pokemon nodes will never connect to each other, and the location nodes will never connect to each other. This allowed us to view the graph in a much clearer way, with the location and Pokemon nodes being two different colors. We could see the location nodes as green and observe the purple Pokemon nodes connected to it. The same was true for the purple Pokemon nodes connecting to the green nodes."
   ]
  },
  {
   "cell_type": "markdown",
   "metadata": {},
   "source": [
    "## Discussion. Think critically about your creation\n",
    "#### 1. What went well?,\n",
    "\n",
    "We were able to tackle many questions that spanned across different aspects of the data. We focused on the first generation, which helped narrow down the results and declutter the graphs. The user can click and change the graphs to allow for a lot of exploring of the data. \n",
    "#### 2. What is still missing? What could be improved?, Why?\n",
    "\n",
    "We didn't have a solid question to dedicate our time to. Other groups seemed to focus in on one or two aspects and really expand. The Pokemon data wasn't extremly robust, so we did the best we could. Also, our data visualizations could be improved. Even though that was not the focus of the final assignment, it would have been nice to have better looking graphs with interesting interaction abilities. "
   ]
  },
  {
   "cell_type": "markdown",
   "metadata": {},
   "source": [
    "## Contributions. Who did what?\n",
    "#### You should write (just briefly) which group member was the main responsible for which elements of the assignment. (I want you guys to understand every part of the assignment, but usually there is someone who took lead role on certain portions of the work. That’s what you should explain)."
   ]
  },
  {
   "cell_type": "markdown",
   "metadata": {},
   "source": [
    "Riley focused mostly on the location graph, Gustaw focused on the episode graph and setting up the website, and Ali worked mostly on the sentiment analysis and website as well."
   ]
  }
 ],
 "metadata": {
  "kernelspec": {
   "display_name": "Python 3",
   "language": "python",
   "name": "python3"
  },
  "language_info": {
   "codemirror_mode": {
    "name": "ipython",
    "version": 3
   },
   "file_extension": ".py",
   "mimetype": "text/x-python",
   "name": "python",
   "nbconvert_exporter": "python",
   "pygments_lexer": "ipython3",
   "version": "3.7.4"
  }
 },
 "nbformat": 4,
 "nbformat_minor": 2
}
