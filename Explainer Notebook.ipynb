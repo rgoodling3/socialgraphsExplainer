{
 "cells": [
  {
   "cell_type": "markdown",
   "metadata": {},
   "source": [
    "# Explainer Notebook"
   ]
  },
  {
   "cell_type": "markdown",
   "metadata": {},
   "source": [
    "## Motivation\n",
    "#### 1. What is your dataset?\n",
    "\n",
    "Our dataset is comprised of Pokemon data from Bulbapedia. In our graphs, we look at Pokemon type, episode appearance, game locations, and many more attributes. \n",
    "#### 2. Why did you choose this/these particular dataset(s)?\n",
    "\n",
    "We were all interested in Pokemon and recognized the potential in the dataset. Because there are so many different categories and attributes, we had many ideas for questions to explore. \n",
    "#### 3. What was your goal for the end user's experience?\n",
    "\n",
    "We wanted to create a handful of graphs and data visualizations to help the user learn about Pokemon. We have three different sections on our website that show 3 different attributes and have visualizations to help. The end goal was to have something fun, not so much useful. "
   ]
  },
  {
   "cell_type": "markdown",
   "metadata": {},
   "source": [
    "## Basic stats. Let's understand the dataset better\n",
    "\n",
    "https://www.youtube.com/watch?v=pOvPfWrcnYA\n",
    "#### 1. Write about your choices in data cleaning and preprocessing\n",
    "\n",
    "We used the same tactics from class to scrape information from the wikipedia page. Once we had the wikipedia text, we were able to use regex to find what we needed. \n",
    "#### 2. Write a short section that discusses the dataset stats\n",
    "\n",
    "There are 809 Pokemon, but we mainly focused on the first 150 (Generation 1). For the location graph, there were an additional 30 nodes that represented locations that Pokemon could be found. The number of edges varried between the two graphs, with the location graph having 452 edges and the episode graph having more than 80,000 edges. We processed over 32 MB of data to create our two graphs and sentiment analysis. "
   ]
  },
  {
   "cell_type": "markdown",
   "metadata": {},
   "source": [
    "## Tools, theory and analysis. Describe the process of theory to insight\n",
    "#### 1. Talk about how you've worked with text, including regular expressions, unicode, etc.\n",
    "\n",
    "For the location graph and episode graph, the game versions, locations, and episodes were extracted from the text using regex.\n",
    "#### 2. Describe which network science tools and data analysis strategies you've used, how those network science measures work, and why the tools you've chosen are right for the problem you're solving. How did you use the tools to understand your dataset?\n",
    "**a. Episode Graph**\n",
    "\n",
    "**b. Sentiment Analysis**\n",
    "\n",
    "**c. Location Graph**\n",
    "\n",
    "For the location graph, we were interested in what Pokemon could be found in the same locations. We used a Networkx bipartite graph to help seperate the location nodes and the Pokemon nodes. This graph is an example of a bipartite graph because the Pokemon nodes will never connect to each other, and the location nodes will never connect to each other. This allowed us to view the graph in a much clearer way, with the location and Pokemon nodes being two different colors. We could see the location nodes as green and observe the purple Pokemon nodes connected to it. The same was true for the purple Pokemon nodes connecting to the green nodes.\n",
    "\n",
    "This graph was able to show an emphasis on the Pokemon and Locations that are most popular in the games. Going through each game's graph, it is clear to see that Magicarp is almost always the largest node. This tells us that in the games, Magicarp can be found in the most locations. Interestingly, there does not seem to be a stand out location for the games that you can find a large amount of Pokemon at. With this graph, we were hoping to see if there were some locations that you could go to in order to collect a majority of Pokemon in a game. That does not seem to be the case, as the average degree distribution for location nodes is 4-5 depending on the game. Having this graph be structured as a bipartite graph helped with this analysis. \n",
    "\n",
    "We also can see that Pokemon don't always group up in similar locations in the games. We hypothesized that certain locations would have extremely similar nodes, but in fact that is not the case. Most locations have a diverse variety of Pokemon appearing there. We expected things like water types to be found by most locations containing water, but that ended up not being the case. The locations containing water will typically include water types, but the combination of the Pokemon will still vary from location to location. \n",
    "\n",
    "Tools that were used to help find this analysis were bipartite graph and community detection."
   ]
  },
  {
   "cell_type": "markdown",
   "metadata": {},
   "source": [
    "## Discussion. Think critically about your creation\n",
    "#### 1. What went well?,\n",
    "\n",
    "We were able to tackle many questions that spanned across different aspects of the data. We focused on the first generation, which helped narrow down the results and declutter the graphs. The user can click and change the graphs to allow for a lot of exploring of the data. \n",
    "#### 2. What is still missing? What could be improved?, Why?\n",
    "\n",
    "We didn't have a solid question to dedicate our time to. Other groups seemed to focus in on one or two aspects and really expand. The Pokemon data wasn't extremly robust, so we did the best we could. Also, our data visualizations could be improved. Even though that was not the focus of the final assignment, it would have been nice to have better looking graphs with interesting interaction abilities. "
   ]
  },
  {
   "cell_type": "markdown",
   "metadata": {},
   "source": [
    "## Contributions. Who did what?"
   ]
  },
  {
   "cell_type": "markdown",
   "metadata": {},
   "source": [
    "|                    | Riley | Ali | Gustaw |\n",
    "|--------------------|-------|-----|--------|\n",
    "| Overall Website    |   10% | 30% | 60%    |\n",
    "| Sentiment Analysis |   10% | 80% | 10%    |\n",
    "| Location Graph     |   80% | 10% | 10%    |\n",
    "| Episode Graph      |   10% | 20% | 70%    |\n",
    "\n",
    "Gustaw deployed the website and worked with the tools needed to do that."
   ]
  },
  {
   "cell_type": "code",
   "execution_count": null,
   "metadata": {},
   "outputs": [],
   "source": []
  }
 ],
 "metadata": {
  "kernelspec": {
   "display_name": "Python 3",
   "language": "python",
   "name": "python3"
  },
  "language_info": {
   "codemirror_mode": {
    "name": "ipython",
    "version": 3
   },
   "file_extension": ".py",
   "mimetype": "text/x-python",
   "name": "python",
   "nbconvert_exporter": "python",
   "pygments_lexer": "ipython3",
   "version": "3.7.4"
  }
 },
 "nbformat": 4,
 "nbformat_minor": 2
}
